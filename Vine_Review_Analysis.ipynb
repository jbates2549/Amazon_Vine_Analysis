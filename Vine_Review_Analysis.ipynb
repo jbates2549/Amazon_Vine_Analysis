{
  "nbformat": 4,
  "nbformat_minor": 0,
  "metadata": {
    "colab": {
      "name": "Vine_Review_Analysis.ipynb",
      "provenance": [],
      "collapsed_sections": []
    },
    "kernelspec": {
      "name": "python3",
      "display_name": "Python 3"
    }
  },
  "cells": [
    {
      "cell_type": "code",
      "metadata": {
        "colab": {
          "base_uri": "https://localhost:8080/"
        },
        "id": "W6zWvxM6jDF9",
        "outputId": "e886bd9a-9e8f-465b-93ca-ca94ff6480cc"
      },
      "source": [
        "import os\r\n",
        "# Find the latest version of spark 2.0  from http://www-us.apache.org/dist/spark/ and enter as the spark version\r\n",
        "# For example:\r\n",
        "# spark_version = 'spark-3.0.0'\r\n",
        "spark_version = 'spark-3.0.1'\r\n",
        "os.environ['SPARK_VERSION']=spark_version\r\n",
        "\r\n",
        "# Install Spark and Java\r\n",
        "!apt-get update\r\n",
        "!apt-get install openjdk-11-jdk-headless -qq > /dev/null\r\n",
        "!wget -q http://www-us.apache.org/dist/spark/$SPARK_VERSION/$SPARK_VERSION-bin-hadoop2.7.tgz\r\n",
        "!tar xf $SPARK_VERSION-bin-hadoop2.7.tgz\r\n",
        "!pip install -q findspark\r\n",
        "\r\n",
        "# Set Environment Variables\r\n",
        "import os\r\n",
        "os.environ[\"JAVA_HOME\"] = \"/usr/lib/jvm/java-11-openjdk-amd64\"\r\n",
        "os.environ[\"SPARK_HOME\"] = f\"/content/{spark_version}-bin-hadoop2.7\"\r\n",
        "\r\n",
        "# Start a SparkSession\r\n",
        "import findspark\r\n",
        "findspark.init()"
      ],
      "execution_count": 1,
      "outputs": [
        {
          "output_type": "stream",
          "text": [
            "\r0% [Working]\r            \rIgn:1 https://developer.download.nvidia.com/compute/cuda/repos/ubuntu1804/x86_64  InRelease\n",
            "\r0% [Waiting for headers] [Waiting for headers] [Waiting for headers] [Waiting f\r                                                                               \rGet:2 https://cloud.r-project.org/bin/linux/ubuntu bionic-cran40/ InRelease [3,626 B]\n",
            "\r0% [Waiting for headers] [Waiting for headers] [2 InRelease 0 B/3,626 B 0%] [Wa\r0% [Waiting for headers] [Waiting for headers] [Waiting for headers] [Waiting f\r0% [2 InRelease gpgv 3,626 B] [Waiting for headers] [Waiting for headers] [Wait\r                                                                               \rHit:3 http://archive.ubuntu.com/ubuntu bionic InRelease\n",
            "\r0% [2 InRelease gpgv 3,626 B] [Waiting for headers] [Waiting for headers] [Wait\r                                                                               \rGet:4 http://security.ubuntu.com/ubuntu bionic-security InRelease [88.7 kB]\n",
            "\r0% [2 InRelease gpgv 3,626 B] [4 InRelease 14.2 kB/88.7 kB 16%] [Waiting for he\r                                                                               \rGet:5 http://ppa.launchpad.net/c2d4u.team/c2d4u4.0+/ubuntu bionic InRelease [15.9 kB]\n",
            "\r0% [2 InRelease gpgv 3,626 B] [4 InRelease 14.2 kB/88.7 kB 16%] [5 InRelease 14\r                                                                               \rIgn:6 https://developer.download.nvidia.com/compute/machine-learning/repos/ubuntu1804/x86_64  InRelease\n",
            "\r0% [2 InRelease gpgv 3,626 B] [Waiting for headers] [4 InRelease 14.2 kB/88.7 k\r                                                                               \rGet:7 https://developer.download.nvidia.com/compute/cuda/repos/ubuntu1804/x86_64  Release [697 B]\n",
            "\r0% [2 InRelease gpgv 3,626 B] [Waiting for headers] [4 InRelease 14.2 kB/88.7 k\r                                                                               \rHit:8 https://developer.download.nvidia.com/compute/machine-learning/repos/ubuntu1804/x86_64  Release\n",
            "Get:9 https://developer.download.nvidia.com/compute/cuda/repos/ubuntu1804/x86_64  Release.gpg [836 B]\n",
            "Get:10 http://archive.ubuntu.com/ubuntu bionic-updates InRelease [88.7 kB]\n",
            "Hit:11 http://ppa.launchpad.net/cran/libgit2/ubuntu bionic InRelease\n",
            "Get:12 http://archive.ubuntu.com/ubuntu bionic-backports InRelease [74.6 kB]\n",
            "Get:13 https://cloud.r-project.org/bin/linux/ubuntu bionic-cran40/ Packages [44.4 kB]\n",
            "Get:14 http://ppa.launchpad.net/graphics-drivers/ppa/ubuntu bionic InRelease [21.3 kB]\n",
            "Ign:16 https://developer.download.nvidia.com/compute/cuda/repos/ubuntu1804/x86_64  Packages\n",
            "Get:16 https://developer.download.nvidia.com/compute/cuda/repos/ubuntu1804/x86_64  Packages [550 kB]\n",
            "Get:17 http://ppa.launchpad.net/c2d4u.team/c2d4u4.0+/ubuntu bionic/main Sources [1,724 kB]\n",
            "Get:18 http://security.ubuntu.com/ubuntu bionic-security/restricted amd64 Packages [293 kB]\n",
            "Get:19 http://security.ubuntu.com/ubuntu bionic-security/universe amd64 Packages [1,386 kB]\n",
            "Get:20 http://archive.ubuntu.com/ubuntu bionic-updates/multiverse amd64 Packages [42.6 kB]\n",
            "Get:21 http://security.ubuntu.com/ubuntu bionic-security/main amd64 Packages [1,917 kB]\n",
            "Get:22 http://archive.ubuntu.com/ubuntu bionic-updates/main amd64 Packages [2,350 kB]\n",
            "Get:23 http://ppa.launchpad.net/c2d4u.team/c2d4u4.0+/ubuntu bionic/main amd64 Packages [882 kB]\n",
            "Get:24 http://archive.ubuntu.com/ubuntu bionic-updates/universe amd64 Packages [2,157 kB]\n",
            "Get:25 http://archive.ubuntu.com/ubuntu bionic-updates/restricted amd64 Packages [323 kB]\n",
            "Get:26 http://ppa.launchpad.net/graphics-drivers/ppa/ubuntu bionic/main amd64 Packages [49.2 kB]\n",
            "Fetched 12.0 MB in 3s (3,710 kB/s)\n",
            "Reading package lists... Done\n"
          ],
          "name": "stdout"
        }
      ]
    },
    {
      "cell_type": "code",
      "metadata": {
        "colab": {
          "base_uri": "https://localhost:8080/"
        },
        "id": "ODGIZGOKj9da",
        "outputId": "54bc46fd-7fa4-45d0-dc6c-806e207a0865"
      },
      "source": [
        "# Download the Postgres driver that will allow Spark to interact with Postgres.\r\n",
        "!wget https://jdbc.postgresql.org/download/postgresql-42.2.16.jar"
      ],
      "execution_count": 2,
      "outputs": [
        {
          "output_type": "stream",
          "text": [
            "--2021-02-02 02:28:30--  https://jdbc.postgresql.org/download/postgresql-42.2.16.jar\n",
            "Resolving jdbc.postgresql.org (jdbc.postgresql.org)... 72.32.157.228, 2001:4800:3e1:1::228\n",
            "Connecting to jdbc.postgresql.org (jdbc.postgresql.org)|72.32.157.228|:443... connected.\n",
            "HTTP request sent, awaiting response... 200 OK\n",
            "Length: 1002883 (979K) [application/java-archive]\n",
            "Saving to: ‘postgresql-42.2.16.jar’\n",
            "\n",
            "postgresql-42.2.16. 100%[===================>] 979.38K  --.-KB/s    in 0.1s    \n",
            "\n",
            "2021-02-02 02:28:31 (6.57 MB/s) - ‘postgresql-42.2.16.jar’ saved [1002883/1002883]\n",
            "\n"
          ],
          "name": "stdout"
        }
      ]
    },
    {
      "cell_type": "code",
      "metadata": {
        "id": "Z68hoFKTkNjA"
      },
      "source": [
        "from pyspark.sql import SparkSession\r\n",
        "spark = SparkSession.builder.appName(\"BigData-Challenge\").config(\"spark.driver.extraClassPath\",\"/content/postgresql-42.2.16.jar\").getOrCreate()"
      ],
      "execution_count": 4,
      "outputs": []
    },
    {
      "cell_type": "code",
      "metadata": {
        "id": "CtCmBhQJY-9Z",
        "colab": {
          "base_uri": "https://localhost:8080/"
        },
        "outputId": "29668803-93fb-45ab-ffb4-297802cff944"
      },
      "source": [
        "from pyspark import SparkFiles\n",
        "url = \"https://jbatesy-bucket.s3.us-east-2.amazonaws.com/amazon_reviews_us_Major_Appliances_v1_00.tsv\"\n",
        "spark.sparkContext.addFile(url)\n",
        "df = spark.read.option(\"encoding\", \"UTF-8\").csv(SparkFiles.get(\"\"), sep=\"\\t\", header=True, inferSchema=True)\n",
        "df.show()"
      ],
      "execution_count": 5,
      "outputs": [
        {
          "output_type": "stream",
          "text": [
            "+-----------+-----------+--------------+----------+--------------+--------------------+----------------+-----------+-------------+-----------+----+-----------------+--------------------+--------------------+-----------+\n",
            "|marketplace|customer_id|     review_id|product_id|product_parent|       product_title|product_category|star_rating|helpful_votes|total_votes|vine|verified_purchase|     review_headline|         review_body|review_date|\n",
            "+-----------+-----------+--------------+----------+--------------+--------------------+----------------+-----------+-------------+-----------+----+-----------------+--------------------+--------------------+-----------+\n",
            "|         US|   16199106|R203HPW78Z7N4K|B0067WNSZY|     633038551|FGGF3032MW Galler...|Major Appliances|          5|            0|          0|   N|                Y|If you need a new...|What a great stov...| 2015-08-31|\n",
            "|         US|   16374060|R2EAIGVLEALSP3|B002QSXK60|     811766671|Best Hand Clothes...|Major Appliances|          5|            1|          1|   N|                Y|          Five Stars|        worked great| 2015-08-31|\n",
            "|         US|   15322085|R1K1CD73HHLILA|B00EC452R6|     345562728|Supco SET184 Ther...|Major Appliances|          5|            0|          0|   N|                Y|       Fast Shipping|Part exactly what...| 2015-08-31|\n",
            "|         US|   32004835|R2KZBMOFRMYOPO|B00MVVIF2G|     563052763|Midea WHS-160RB1 ...|Major Appliances|          5|            1|          1|   N|                Y|          Five Stars|Love my refrigera...| 2015-08-31|\n",
            "|         US|   25414497| R6BIZOZY6UD01|B00IY7BNUW|     874236579|Avalon Bay Portab...|Major Appliances|          5|            0|          0|   N|                Y|          Five Stars|No more running t...| 2015-08-31|\n",
            "|         US|   36311751|R1MCXZFNF8E7Y0|B0033X29CI|     294467812|Danby  Freestandi...|Major Appliances|          1|            0|          0|   N|                Y|       Piece of Junk|It would not cool...| 2015-08-31|\n",
            "|         US|   30920961|R3EMB3E3ODR6BW|B005R597HA|     183784715|Avanti 110-Volt A...|Major Appliances|          5|            2|          2|   N|                Y|Works awesome for...|Works awesome for...| 2015-08-31|\n",
            "|         US|   52491265| RJTONVTTOPJ5S|B00MO6V8Y0|     960251524|      Danby products|Major Appliances|          5|            0|          0|   N|                Y|          Five Stars|exactly what I wa...| 2015-08-31|\n",
            "|         US|   48166169|R21U5QZ2CQECUM|B00HT39QDI|     992475314|3 Pack Tier1 MSWF...|Major Appliances|          4|            0|          0|   N|                Y|          Four Stars|       AS advertised| 2015-08-31|\n",
            "|         US|   50394924| RL2BBC51H89DH|B00LESFZ52|       1641606|True TSSU-60-16 6...|Major Appliances|          4|            0|          0|   N|                Y|but has poor insu...|It works as adver...| 2015-08-31|\n",
            "|         US|    3915552|R3RNEPHF3WIRSZ|B0149IJVPI|     838108342|Magic: the Gather...|Major Appliances|          2|            0|          0|   N|                N|           Two Stars|it's not worth 22...| 2015-08-31|\n",
            "|         US|   17068589|R38DNT9KML2PF3|B002HT0958|     387104338|Mini Portable Cou...|Major Appliances|          5|            0|          0|   N|                Y| Love it for camping|Wonderful! It spi...| 2015-08-31|\n",
            "|         US|   52081068|R2ECMBJM8KNNC8|B006WOBNX6|     180688127|1 X Dishwasher Ra...|Major Appliances|          4|            0|          0|   N|                Y|          Four Stars|Did the job but d...| 2015-08-31|\n",
            "|         US|   13783713|R2F3F92PRN9T7S|B00NLPMOU0|     570132358|Watson 1.5 ft AC ...|Major Appliances|          5|            0|          0|   N|                Y|Very well satisfied.|Arrived on time a...| 2015-08-31|\n",
            "|         US|   14555366|R35XNT88XVEMK6|B00KJ07SEM|     313983847|GE MWF SmartWater...|Major Appliances|          5|            1|          1|   N|                Y|          Five Stars|               Super| 2015-08-31|\n",
            "|         US|   48417244| RZRXLHQS71FUP|B001AT2ALM|     364403440|Koldfront Ultra C...|Major Appliances|          4|            1|          1|   N|                Y|          Four Stars|Looking forward t...| 2015-08-31|\n",
            "|         US|   19010760|R3J9T4MZRAURV5|B00JG8B42K|     672722354|OnePurify RFC0800...|Major Appliances|          1|            0|          0|   N|                Y|     dont waste your|cheap knock-off. ...| 2015-08-31|\n",
            "|         US|   43532555|R3CLDHHI0ZSQLO|B00FRJ5EWS|     137548022|2016 Life Water I...|Major Appliances|          5|            1|          2|   N|                N|       Great Product|My wife is lookin...| 2015-08-31|\n",
            "|         US|   21879631| RY52KZABZK8QF|B0052G14E8|     423421857|Danby 0.7 cu.ft. ...|Major Appliances|          1|            0|          0|   N|                Y|Do not recommend ...|3 of the buttons ...| 2015-08-31|\n",
            "|         US|     810098|R25RXV5X29M3UC|B00LOVVE9A|     386722389|SPT UF-304SS Ener...|Major Appliances|          4|            0|          1|   N|                Y|          Four Stars|     So far so good.| 2015-08-31|\n",
            "+-----------+-----------+--------------+----------+--------------+--------------------+----------------+-----------+-------------+-----------+----+-----------------+--------------------+--------------------+-----------+\n",
            "only showing top 20 rows\n",
            "\n"
          ],
          "name": "stdout"
        }
      ]
    },
    {
      "cell_type": "code",
      "metadata": {
        "id": "yy956D11kgpY"
      },
      "source": [
        "from pyspark.sql.functions import to_date\r\n",
        "from pyspark.sql.types import *\r\n",
        "# Read in the Review dataset as a DataFrame"
      ],
      "execution_count": 6,
      "outputs": []
    },
    {
      "cell_type": "code",
      "metadata": {
        "id": "pUjn6zALmFma"
      },
      "source": [
        "Imported_vine_votes20_df = df.filter('total_votes >20')"
      ],
      "execution_count": 31,
      "outputs": []
    },
    {
      "cell_type": "code",
      "metadata": {
        "colab": {
          "base_uri": "https://localhost:8080/"
        },
        "id": "yhH6_kTlmM2J",
        "outputId": "e220f73a-4ec3-43b4-c3e6-51d0e7976f0e"
      },
      "source": [
        "Imported_vine_votes20_df.count()"
      ],
      "execution_count": 32,
      "outputs": [
        {
          "output_type": "execute_result",
          "data": {
            "text/plain": [
              "5030"
            ]
          },
          "metadata": {
            "tags": []
          },
          "execution_count": 32
        }
      ]
    },
    {
      "cell_type": "code",
      "metadata": {
        "colab": {
          "base_uri": "https://localhost:8080/"
        },
        "id": "TDtImVoimM5R",
        "outputId": "83c25ade-d6cf-4890-aa53-0a95428616b8"
      },
      "source": [
        "temp_df = Imported_vine_votes20_df.withColumn('helpful_votes50',Imported_vine_votes20_df['helpful_votes'] / Imported_vine_votes20_df['total_votes'])\r\n",
        "votes50_df = temp_df.filter('helpful_votes50 >= 0.50')\r\n",
        "votes50_df.show()"
      ],
      "execution_count": 34,
      "outputs": [
        {
          "output_type": "stream",
          "text": [
            "+-----------+-----------+--------------+----------+--------------+--------------------+----------------+-----------+-------------+-----------+----+-----------------+--------------------+--------------------+-----------+------------------+\n",
            "|marketplace|customer_id|     review_id|product_id|product_parent|       product_title|product_category|star_rating|helpful_votes|total_votes|vine|verified_purchase|     review_headline|         review_body|review_date|   helpful_votes50|\n",
            "+-----------+-----------+--------------+----------+--------------+--------------------+----------------+-----------+-------------+-----------+----+-----------------+--------------------+--------------------+-----------+------------------+\n",
            "|         US|   36792525|R3BC75VKJK6LNV|B00RL014P2|       6980707|The Laundry Alter...|Major Appliances|          4|           83|         89|   N|                Y|Warning! Long Rev...|Where do I begin?...| 2015-08-31|0.9325842696629213|\n",
            "|         US|   13254956| R5XKK92G5N9FU|B00EM2JPLW|     824392206|Samsung NE58F9500...|Major Appliances|          1|           18|         22|   N|                N|FIRE HAZARD - AVO...|FIRE HAZARD - AVO...| 2015-08-30|0.8181818181818182|\n",
            "|         US|   50791387| RYMOWYW38WKOB|B00UI18U08|     846535709|LG LMXC23746S 23 ...|Major Appliances|          5|           35|         35|   N|                N|pleasant surprise...|Bought this fridg...| 2015-08-30|               1.0|\n",
            "|         US|   48688660| RYHZAVESD0T37|B00IY7B5CS|     874236579|Avalon Bay Portab...|Major Appliances|          1|           39|         45|   N|                Y|             Wet ice|I really wanted t...| 2015-08-29|0.8666666666666667|\n",
            "|         US|   47079055|R19Y5VBOF3BQOG|B010CE497I|     607780698|Haier HC27SW20RV ...|Major Appliances|          1|           26|         35|   N|                Y|        Product swap|It just arrived a...| 2015-08-29|0.7428571428571429|\n",
            "|         US|   42769135| R8V9F3139Z1WZ|B00OI05EKE|     381662962|GE GSE25HMHES 36\"...|Major Appliances|          1|           30|         34|   N|                N|SHAME ON GE, low ...|STAY AWAY from GE...| 2015-08-29|0.8823529411764706|\n",
            "|         US|   51579138|R3RNY5OLY451GS|B00LIAP2ZY|     545041103|LG WM3997HWA Vent...|Major Appliances|          1|           25|         30|   N|                Y|Drying did not work.|I really wanted t...| 2015-08-28|0.8333333333333334|\n",
            "|         US|   25345755|R2NLL7ISMM5QYQ|B00E8KC36M|     754165796|Kitchen Bath Coll...|Major Appliances|          4|           89|         94|   N|                Y|  We love it, but...|When it arrived, ...| 2015-08-27|0.9468085106382979|\n",
            "|         US|   52082261|R3FAFI6Q0YL37W|B00KJ07SEM|     313983847|GE MWF SmartWater...|Major Appliances|          1|           30|         35|   N|                Y|BEWARE! Gross yel...|Watch out! I just...| 2015-08-26|0.8571428571428571|\n",
            "|         US|   12120105|R1A4JVOP7N5Q1K|B00XYVEA2Q|     926385357|ARKSEN Portable M...|Major Appliances|          5|           28|         30|   N|                Y|I FELT LIKE A SUC...|I read the negati...| 2015-08-25|0.9333333333333333|\n",
            "|         US|   19227587|R30E25MXKEP9BP|B00D1SZNO6|     315917522|Avanti RA7316PST ...|Major Appliances|          4|           36|         37|   N|                Y|Avanti is good pa...|Arrived really we...| 2015-08-23| 0.972972972972973|\n",
            "|         US|   40023988|R2FMLYX388LR2Y|B0057WCGJ4|     745613395|Bosch 800 Series ...|Major Appliances|          5|           28|         33|   N|                Y|Bosch 800 Series ...|Just got this dis...| 2015-08-22|0.8484848484848485|\n",
            "|         US|   11324103| R1EGFDXPYGROC|B00J8A9S4C|     772573004|Bosch NGM8655UC 8...|Major Appliances|          5|           28|         32|   N|                Y|       Great Cooktop|We bought this to...| 2015-08-22|             0.875|\n",
            "|         US|   10295660|R2DCZYJZRF0V2O|B00OLUTYKC|     668408812|Wine Enthusiast 2...|Major Appliances|          5|           26|         28|   N|                Y|Handsome and Very...|Handsome, super q...| 2015-08-22|0.9285714285714286|\n",
            "|         US|   36744226|R3QNOR0K43XLWB|B002UYSHMM|     429051224|Haier HLP21N Puls...|Major Appliances|          5|           41|         41|   N|                N|Great Washer for ...|This is great, qu...| 2015-08-21|               1.0|\n",
            "|         US|   48114567| RPNUNJJZLD11P|B00GXH8QDW|     114997886|LG H/E Ultra Larg...|Major Appliances|          1|           26|         27|   N|                N|It is too soon to...|I purchased this ...| 2015-08-21|0.9629629629629629|\n",
            "|         US|   19603551|R39VRWWZWAHBPH|B010CE497I|     607780698|Haier HC27SW20RV ...|Major Appliances|          1|           15|         21|   N|                Y|            One Star|Very disappointed...| 2015-08-21|0.7142857142857143|\n",
            "|         US|     877297| RU7XNN9EC8V8X|B00N1XAVDY|     845333501|NewAir CC-100 250...|Major Appliances|          1|           31|         36|   N|                Y|Really bad produc...|Simply the worst ...| 2015-08-21|0.8611111111111112|\n",
            "|         US|    7008877|R2ZU7AC8QSDUOB|B00KVRA6YW|     678523534|SPT RF-314SS Doub...|Major Appliances|          4|           41|         44|   N|                Y| Buy extra ice trays|Bought this mini ...| 2015-08-20|0.9318181818181818|\n",
            "|         US|   44395907|R29HVMIBN45FSR|B00CM6J45M|     133221726|Bosch SHE53TL5UC ...|Major Appliances|          1|           27|         33|   N|                Y|        Buyer beware|Overall this is a...| 2015-08-20|0.8181818181818182|\n",
            "+-----------+-----------+--------------+----------+--------------+--------------------+----------------+-----------+-------------+-----------+----+-----------------+--------------------+--------------------+-----------+------------------+\n",
            "only showing top 20 rows\n",
            "\n"
          ],
          "name": "stdout"
        }
      ]
    },
    {
      "cell_type": "code",
      "metadata": {
        "colab": {
          "base_uri": "https://localhost:8080/"
        },
        "id": "qkJMaEpjmM8K",
        "outputId": "2f3c6278-82f9-428a-d46a-b8dbbb7f0c23"
      },
      "source": [
        "votes_count50 = votes50_df.count()\r\n",
        "votes_count50"
      ],
      "execution_count": 35,
      "outputs": [
        {
          "output_type": "execute_result",
          "data": {
            "text/plain": [
              "4686"
            ]
          },
          "metadata": {
            "tags": []
          },
          "execution_count": 35
        }
      ]
    },
    {
      "cell_type": "code",
      "metadata": {
        "colab": {
          "base_uri": "https://localhost:8080/"
        },
        "id": "hr-e-LYCmXti",
        "outputId": "7321e100-4e59-4029-e6a6-3a5a180e8a88"
      },
      "source": [
        "star5_df = votes50_df.filter('star_rating == \"5\"')\r\n",
        "star5_df.show()"
      ],
      "execution_count": 36,
      "outputs": [
        {
          "output_type": "stream",
          "text": [
            "+-----------+-----------+--------------+----------+--------------+--------------------+----------------+-----------+-------------+-----------+----+-----------------+--------------------+--------------------+-----------+------------------+\n",
            "|marketplace|customer_id|     review_id|product_id|product_parent|       product_title|product_category|star_rating|helpful_votes|total_votes|vine|verified_purchase|     review_headline|         review_body|review_date|   helpful_votes50|\n",
            "+-----------+-----------+--------------+----------+--------------+--------------------+----------------+-----------+-------------+-----------+----+-----------------+--------------------+--------------------+-----------+------------------+\n",
            "|         US|   50791387| RYMOWYW38WKOB|B00UI18U08|     846535709|LG LMXC23746S 23 ...|Major Appliances|          5|           35|         35|   N|                N|pleasant surprise...|Bought this fridg...| 2015-08-30|               1.0|\n",
            "|         US|   12120105|R1A4JVOP7N5Q1K|B00XYVEA2Q|     926385357|ARKSEN Portable M...|Major Appliances|          5|           28|         30|   N|                Y|I FELT LIKE A SUC...|I read the negati...| 2015-08-25|0.9333333333333333|\n",
            "|         US|   40023988|R2FMLYX388LR2Y|B0057WCGJ4|     745613395|Bosch 800 Series ...|Major Appliances|          5|           28|         33|   N|                Y|Bosch 800 Series ...|Just got this dis...| 2015-08-22|0.8484848484848485|\n",
            "|         US|   11324103| R1EGFDXPYGROC|B00J8A9S4C|     772573004|Bosch NGM8655UC 8...|Major Appliances|          5|           28|         32|   N|                Y|       Great Cooktop|We bought this to...| 2015-08-22|             0.875|\n",
            "|         US|   10295660|R2DCZYJZRF0V2O|B00OLUTYKC|     668408812|Wine Enthusiast 2...|Major Appliances|          5|           26|         28|   N|                Y|Handsome and Very...|Handsome, super q...| 2015-08-22|0.9285714285714286|\n",
            "|         US|   36744226|R3QNOR0K43XLWB|B002UYSHMM|     429051224|Haier HLP21N Puls...|Major Appliances|          5|           41|         41|   N|                N|Great Washer for ...|This is great, qu...| 2015-08-21|               1.0|\n",
            "|         US|   42644122|R1PTSX3FQW0J0T|B00NN14VBM|     712762803|Bosch HGI8054UC 8...|Major Appliances|          5|           22|         24|   N|                Y|this range is of ...|this range is of ...| 2015-08-20|0.9166666666666666|\n",
            "|         US|   11716336|R285ZS7LCIZLFH|B00C4R0AL6|     807005987|    HCM050EC Freezer|Major Appliances|          5|           31|         32|   N|                Y|Brrrr, it's cold ...|Freezer, gets col...| 2015-08-18|           0.96875|\n",
            "|         US|   24012182| RNB4JG59ILOL3|B00OK54BAQ|     956212580|WHIRLPOOL GIDDS-2...|Major Appliances|          5|           38|         39|   N|                Y|Works extremely w...|Works extremely w...| 2015-08-17|0.9743589743589743|\n",
            "|         US|   11156562|R196Q2T2PXLXKY|B00K6P7JXA|     570722451|Haier HPL141E 2.6...|Major Appliances|          5|           21|         21|   N|                N|it has worked lik...|I purchased this ...| 2015-08-17|               1.0|\n",
            "|         US|   19293947|R12LFU2ZVPAZSS|B0125S2K0M|     504103070|Avalon Top Loadin...|Major Appliances|          5|          144|        156|   N|                N|Avalon water disp...|[[VIDEOID:8829556...| 2015-08-16|0.9230769230769231|\n",
            "|         US|   34281930| RBEWTVN0JGJK5|B0063E2HTE|     528038448|EdgeStar 34 Bottl...|Major Appliances|          5|           20|         24|   N|                Y|Great Experience ...|I really don't un...| 2015-08-13|0.8333333333333334|\n",
            "|         US|   19964932| RBWC1JIHO45NY|B00UZRV9MG|      18863528|Portable Compact ...|Major Appliances|          5|          324|        335|   N|                Y|Great little big ...|I just got this l...| 2015-08-13|0.9671641791044776|\n",
            "|         US|   41435501|R2QQKOM0ZAFDXS|B004N4MSPO|     451436203|SPT Countertop Di...|Major Appliances|          5|           29|         29|   N|                N|Great dishwasher!...|I did not purchas...| 2015-08-11|               1.0|\n",
            "|         US|   26460043| RZZ4M4JT2S53K|B00CM6J45M|     133221726|Bosch SHE53TL5UC ...|Major Appliances|          5|           27|         27|   N|                N|This puppy it exc...|I did not purchas...| 2015-08-10|               1.0|\n",
            "|         US|   13184795| R6IKJ524RSRHE|B00PYDN0NM|      63179546|LG LFXS29626S Fre...|Major Appliances|          5|           65|         71|   N|                Y|Great fridge, ver...|Great fridge!  I'...| 2015-08-10|0.9154929577464789|\n",
            "|         US|   52118106| R8A89YQAEXWTW|B00MB39X02|     177964792|W3038 | Miele 24 ...|Major Appliances|          5|           36|         38|   N|                N|if you've ever li...|It's a fabulous w...| 2015-08-09|0.9473684210526315|\n",
            "|         US|   33082280|R1WNZB61F5X2M0|B00W4KJO4M|     436506784|GE GUD27ESSJWW 27...|Major Appliances|          5|           49|         59|   N|                Y|          Five Stars|My wife and I rea...| 2015-08-09|0.8305084745762712|\n",
            "|         US|   33493124|R3PYG4LD6E4Z9R|B00U7XIS86|     322267382|Samsung RF23J9011...|Major Appliances|          5|           51|         53|   N|                N|Super flexible, g...|This fridge reall...| 2015-08-07|0.9622641509433962|\n",
            "|         US|   37949308|R3VVLJ3EFHSODD|B00VUNXNTG|     963575888|Samsung WA48J7700...|Major Appliances|          5|           27|         29|   N|                N|MODERN, EFFECTIVE...|I never thought a...| 2015-08-07|0.9310344827586207|\n",
            "+-----------+-----------+--------------+----------+--------------+--------------------+----------------+-----------+-------------+-----------+----+-----------------+--------------------+--------------------+-----------+------------------+\n",
            "only showing top 20 rows\n",
            "\n"
          ],
          "name": "stdout"
        }
      ]
    },
    {
      "cell_type": "code",
      "metadata": {
        "colab": {
          "base_uri": "https://localhost:8080/"
        },
        "id": "BNnnS2iKmXv6",
        "outputId": "851eca36-d1e7-43e8-a6bb-02afb9385c1c"
      },
      "source": [
        "star5_count = star5_df.count()\r\n",
        "star5_count"
      ],
      "execution_count": 12,
      "outputs": [
        {
          "output_type": "execute_result",
          "data": {
            "text/plain": [
              "1981"
            ]
          },
          "metadata": {
            "tags": []
          },
          "execution_count": 12
        }
      ]
    },
    {
      "cell_type": "code",
      "metadata": {
        "colab": {
          "base_uri": "https://localhost:8080/"
        },
        "id": "w7znB14jmXya",
        "outputId": "12b1d1d5-cce4-4c57-bdf7-8b2f8ed858a1"
      },
      "source": [
        "vine_only_df = votes50_df.filter('vine == \"Y\"')\r\n",
        "vine_only_df.show()"
      ],
      "execution_count": 13,
      "outputs": [
        {
          "output_type": "stream",
          "text": [
            "+-----------+-----------+--------------+----------+--------------+--------------------+----------------+-----------+-------------+-----------+----+-----------------+--------------------+--------------------+-----------+------------------+\n",
            "|marketplace|customer_id|     review_id|product_id|product_parent|       product_title|product_category|star_rating|helpful_votes|total_votes|vine|verified_purchase|     review_headline|         review_body|review_date|   helpful_votes50|\n",
            "+-----------+-----------+--------------+----------+--------------+--------------------+----------------+-----------+-------------+-----------+----+-----------------+--------------------+--------------------+-----------+------------------+\n",
            "|         US|   31302915|R20O97P5V9CZ21|B00P7QI4IM|     901651668|Whynter BR-130SB ...|Major Appliances|          3|           21|         27|   Y|                N|Nice but had some...|I was very excite...| 2015-06-07|0.7777777777777778|\n",
            "|         US|   38320678| RCNB7YGLWKCV5|B00NQFSSWS|     692404913|Samsung Counter T...|Major Appliances|          5|           23|         30|   Y|                N|You wouldn't micr...|I never would hav...| 2015-02-02|0.7666666666666667|\n",
            "|         US|   53035876| RX1ZUVGBH3HKC|B00NQFSSWS|     692404913|Samsung Counter T...|Major Appliances|          5|          814|        848|   Y|                N|THE WORLD'S MOST ...|I've written quit...| 2015-01-19|0.9599056603773585|\n",
            "|         US|   52682179| RRS5AGL10DYU3|B00NN136NQ|     464779766|Samsung MC11H6033...|Major Appliances|          3|           25|         29|   Y|                N|Not bad, but fell...|I have mixed feel...| 2015-01-14|0.8620689655172413|\n",
            "|         US|   47914576| R5YFC5G8V2B3I|B00NQFSSWS|     692404913|Samsung Counter T...|Major Appliances|          5|          104|        117|   Y|                N|This Combination ...|Is a combination ...| 2015-01-12|0.8888888888888888|\n",
            "|         US|   52862683|R1IDQ0G1S7J9TN|B00NQFSSWS|     692404913|Samsung Counter T...|Major Appliances|          5|          178|        196|   Y|                N|Awesome grill + m...|[[VIDEOID:26e2998...| 2015-01-11|0.9081632653061225|\n",
            "|         US|   51401810| RKXNZX22HQZEE|B00NN136NQ|     464779766|Samsung MC11H6033...|Major Appliances|          3|          182|        192|   Y|                N|Takes your chef s...|I’m always leery ...| 2015-01-08|0.9479166666666666|\n",
            "|         US|   39699233|R2K45IY0NO70ZI|B00NN136NQ|     464779766|Samsung MC11H6033...|Major Appliances|          5|          116|        122|   Y|                N|Awesome Convectio...|Before this micro...| 2015-01-01|0.9508196721311475|\n",
            "|         US|   47233680| RQXRI4UKDX877|B00M7GMEYK|     350114849|             Whynter|Major Appliances|          5|           20|         24|   Y|                N|Great small freez...|This is a perfect...| 2014-10-24|0.8333333333333334|\n",
            "|         US|   51302590|R1L2R8OHO171YG|B00M7GMEYK|     350114849|             Whynter|Major Appliances|          5|           66|         68|   Y|                N|Lots of things to...|Like all things, ...| 2014-10-10|0.9705882352941176|\n",
            "|         US|   51286530|R15NQCQUNOSI4U|B00EWDALK0|      52868775|Whynter MRF-310DB...|Major Appliances|          4|           19|         22|   Y|                N|Cool Space-saving...|This is a wonderf...| 2013-11-25|0.8636363636363636|\n",
            "|         US|   33107350|R37J6VNSC5TZVS|B005XAM44W|     920442298|NewAir AWC-270E 2...|Major Appliances|          4|           19|         22|   Y|                N|5-star aesthetics...|[[VIDEOID:mo1PZ46...| 2013-11-18|0.8636363636363636|\n",
            "|         US|   28566325|R3F1V21FOEIEKN|B00CQ1O3NG|     601997392|Whynter 20 Bottle...|Major Appliances|          4|           30|         33|   Y|                N|A little loud, bu...|I've been using m...| 2013-10-30|0.9090909090909091|\n",
            "|         US|   28566325|R2SQ2O06PRCM9D|B00EWDALK0|      52868775|Whynter MRF-310DB...|Major Appliances|          5|           28|         31|   Y|                N|A super little wo...|I admit it, I tho...| 2013-10-30|0.9032258064516129|\n",
            "|         US|   52896178| RX7QEPPDUZLO7|B00CQ1O3NG|     601997392|Whynter 20 Bottle...|Major Appliances|          4|           18|         20|   Y|                N|Cool and compact ...|A wine refrigerat...| 2013-10-26|               0.9|\n",
            "|         US|   52801489|R1B3OGO36CJKDA|B005XAM44W|     920442298|NewAir AWC-270E 2...|Major Appliances|          5|           15|         20|   Y|                Y|Works Well and Lo...|This NewAir wine ...| 2013-10-02|              0.75|\n",
            "|         US|   43335941|R2SIOD5SIH2LJN|B001DI4UYA|     455062034|NewAir AW-210ED S...|Major Appliances|          4|           25|         31|   Y|                N|Sleek, convenient...|I realize other c...| 2013-08-15|0.8064516129032258|\n",
            "|         US|   50699505| R9J3GG1IL1KWC|B008RL4OCY|     726642495|NewAir AI-215SS P...|Major Appliances|          5|          158|        164|   Y|                N|This is a perfect...|I absolutely love...| 2013-06-28|0.9634146341463414|\n",
            "|         US|   52760989| RPGPLUGTQP80H|B007P4WD4A|     322676334|Amana 6.5 cu. ft....|Major Appliances|          4|           17|         20|   Y|                N|A Fast Working, E...|Drying clothes is...| 2012-06-05|              0.85|\n",
            "|         US|   33107350|R2ACH3HF5VUWGD|B00702RU5E|     987465727|Amana Tall Tub Di...|Major Appliances|          4|           76|         78|   Y|                N|Definitely worth ...|To help put my re...| 2012-05-26|0.9743589743589743|\n",
            "+-----------+-----------+--------------+----------+--------------+--------------------+----------------+-----------+-------------+-----------+----+-----------------+--------------------+--------------------+-----------+------------------+\n",
            "only showing top 20 rows\n",
            "\n"
          ],
          "name": "stdout"
        }
      ]
    },
    {
      "cell_type": "code",
      "metadata": {
        "colab": {
          "base_uri": "https://localhost:8080/"
        },
        "id": "Zm2yLRu-mq5B",
        "outputId": "f99540b2-2259-4107-fa05-1211f60cc645"
      },
      "source": [
        "vine_only_count= vine_only_df.count()\r\n",
        "vine_only_count"
      ],
      "execution_count": 14,
      "outputs": [
        {
          "output_type": "execute_result",
          "data": {
            "text/plain": [
              "35"
            ]
          },
          "metadata": {
            "tags": []
          },
          "execution_count": 14
        }
      ]
    },
    {
      "cell_type": "code",
      "metadata": {
        "colab": {
          "base_uri": "https://localhost:8080/"
        },
        "id": "SA5PAClMmviB",
        "outputId": "03ae07f4-60e3-48f7-a644-3f9b5be42329"
      },
      "source": [
        "\r\n",
        "vine_only_star5 = vine_only_df.filter('star_rating == \"5\"')\r\n",
        "vine_only_star5.show()"
      ],
      "execution_count": 15,
      "outputs": [
        {
          "output_type": "stream",
          "text": [
            "+-----------+-----------+--------------+----------+--------------+--------------------+----------------+-----------+-------------+-----------+----+-----------------+--------------------+--------------------+-----------+------------------+\n",
            "|marketplace|customer_id|     review_id|product_id|product_parent|       product_title|product_category|star_rating|helpful_votes|total_votes|vine|verified_purchase|     review_headline|         review_body|review_date|   helpful_votes50|\n",
            "+-----------+-----------+--------------+----------+--------------+--------------------+----------------+-----------+-------------+-----------+----+-----------------+--------------------+--------------------+-----------+------------------+\n",
            "|         US|   38320678| RCNB7YGLWKCV5|B00NQFSSWS|     692404913|Samsung Counter T...|Major Appliances|          5|           23|         30|   Y|                N|You wouldn't micr...|I never would hav...| 2015-02-02|0.7666666666666667|\n",
            "|         US|   53035876| RX1ZUVGBH3HKC|B00NQFSSWS|     692404913|Samsung Counter T...|Major Appliances|          5|          814|        848|   Y|                N|THE WORLD'S MOST ...|I've written quit...| 2015-01-19|0.9599056603773585|\n",
            "|         US|   47914576| R5YFC5G8V2B3I|B00NQFSSWS|     692404913|Samsung Counter T...|Major Appliances|          5|          104|        117|   Y|                N|This Combination ...|Is a combination ...| 2015-01-12|0.8888888888888888|\n",
            "|         US|   52862683|R1IDQ0G1S7J9TN|B00NQFSSWS|     692404913|Samsung Counter T...|Major Appliances|          5|          178|        196|   Y|                N|Awesome grill + m...|[[VIDEOID:26e2998...| 2015-01-11|0.9081632653061225|\n",
            "|         US|   39699233|R2K45IY0NO70ZI|B00NN136NQ|     464779766|Samsung MC11H6033...|Major Appliances|          5|          116|        122|   Y|                N|Awesome Convectio...|Before this micro...| 2015-01-01|0.9508196721311475|\n",
            "|         US|   47233680| RQXRI4UKDX877|B00M7GMEYK|     350114849|             Whynter|Major Appliances|          5|           20|         24|   Y|                N|Great small freez...|This is a perfect...| 2014-10-24|0.8333333333333334|\n",
            "|         US|   51302590|R1L2R8OHO171YG|B00M7GMEYK|     350114849|             Whynter|Major Appliances|          5|           66|         68|   Y|                N|Lots of things to...|Like all things, ...| 2014-10-10|0.9705882352941176|\n",
            "|         US|   28566325|R2SQ2O06PRCM9D|B00EWDALK0|      52868775|Whynter MRF-310DB...|Major Appliances|          5|           28|         31|   Y|                N|A super little wo...|I admit it, I tho...| 2013-10-30|0.9032258064516129|\n",
            "|         US|   52801489|R1B3OGO36CJKDA|B005XAM44W|     920442298|NewAir AWC-270E 2...|Major Appliances|          5|           15|         20|   Y|                Y|Works Well and Lo...|This NewAir wine ...| 2013-10-02|              0.75|\n",
            "|         US|   50699505| R9J3GG1IL1KWC|B008RL4OCY|     726642495|NewAir AI-215SS P...|Major Appliances|          5|          158|        164|   Y|                N|This is a perfect...|I absolutely love...| 2013-06-28|0.9634146341463414|\n",
            "|         US|   48836233|R3G0GOG0CWU7AU|B00702RU5E|     987465727|Amana Tall Tub Di...|Major Appliances|          5|           36|         37|   Y|                N|     Good basic unit|This Amana Tall T...| 2012-05-23| 0.972972972972973|\n",
            "|         US|   46945645|R214D7Q3CO5W5J|B00702RU5E|     987465727|Amana Tall Tub Di...|Major Appliances|          5|           51|         52|   Y|                N|LOVE THIS DISHWAS...|I have had the pl...| 2012-05-13|0.9807692307692307|\n",
            "|         US|   50273418|R2X8VIUPVX3WP2|B007P4WD4A|     322676334|Amana 6.5 cu. ft....|Major Appliances|          5|           52|         57|   Y|                N|Highly efficient,...|Received the Aman...| 2012-05-08|0.9122807017543859|\n",
            "|         US|   21155796|R3OA1SP1OGC1B0|B003MMDQLI|     729336885|Amana 18.5 -Cubic...|Major Appliances|          5|           37|         40|   Y|                N|The looks make it...|[[VIDEOID:2f448ec...| 2012-04-01|             0.925|\n",
            "|         US|   50529300|R34C4BLRJPH3TL|B005OTCTHO|     308377434|Amana 3.4-Cubic F...|Major Appliances|          5|           48|         53|   Y|                N|Video Review on t...|[[VIDEOID:mo2RIQ5...| 2012-01-09|0.9056603773584906|\n",
            "|         US|   38475242|R3URHSBVCV2DC4|B003TOFVP8|     933602779|Amana 3.5 -Cubic ...|Major Appliances|          5|           46|         51|   Y|                N|Check out this gr...|[[VIDEOID:mo3JIY6...| 2011-11-13|0.9019607843137255|\n",
            "|         US|   52504138|R3AMGG11RIXJRR|B003TOFVP8|     933602779|Amana 3.5 -Cubic ...|Major Appliances|          5|           24|         28|   Y|                N|Great High Effici...|I have always had...| 2011-10-31|0.8571428571428571|\n",
            "|         US|   14706793|  R6AT0BH9PKJF|B003TOFVP8|     933602779|Amana 3.5 -Cubic ...|Major Appliances|          5|           76|         81|   Y|                N|Going from a top ...|[[VIDEOID:mo2KKN1...| 2011-10-30|0.9382716049382716|\n",
            "+-----------+-----------+--------------+----------+--------------+--------------------+----------------+-----------+-------------+-----------+----+-----------------+--------------------+--------------------+-----------+------------------+\n",
            "\n"
          ],
          "name": "stdout"
        }
      ]
    },
    {
      "cell_type": "code",
      "metadata": {
        "colab": {
          "base_uri": "https://localhost:8080/"
        },
        "id": "6NckEJ2NmvzU",
        "outputId": "a3172041-f0ca-41d1-a9fb-7c937d5dcd34"
      },
      "source": [
        "vine_only_star5_count = vine_only_star5.count()\r\n",
        "vine_only_star5_count"
      ],
      "execution_count": 16,
      "outputs": [
        {
          "output_type": "execute_result",
          "data": {
            "text/plain": [
              "18"
            ]
          },
          "metadata": {
            "tags": []
          },
          "execution_count": 16
        }
      ]
    },
    {
      "cell_type": "code",
      "metadata": {
        "colab": {
          "base_uri": "https://localhost:8080/"
        },
        "id": "7owFkLm8mv3r",
        "outputId": "22b405d7-9177-4e77-e398-ce1480060869"
      },
      "source": [
        "not_vine_only_df = votes50_df.filter('vine == \"N\"')\r\n",
        "not_vine_only_df.show()"
      ],
      "execution_count": 17,
      "outputs": [
        {
          "output_type": "stream",
          "text": [
            "+-----------+-----------+--------------+----------+--------------+--------------------+----------------+-----------+-------------+-----------+----+-----------------+--------------------+--------------------+-----------+------------------+\n",
            "|marketplace|customer_id|     review_id|product_id|product_parent|       product_title|product_category|star_rating|helpful_votes|total_votes|vine|verified_purchase|     review_headline|         review_body|review_date|   helpful_votes50|\n",
            "+-----------+-----------+--------------+----------+--------------+--------------------+----------------+-----------+-------------+-----------+----+-----------------+--------------------+--------------------+-----------+------------------+\n",
            "|         US|   36792525|R3BC75VKJK6LNV|B00RL014P2|       6980707|The Laundry Alter...|Major Appliances|          4|           83|         89|   N|                Y|Warning! Long Rev...|Where do I begin?...| 2015-08-31|0.9325842696629213|\n",
            "|         US|   13254956| R5XKK92G5N9FU|B00EM2JPLW|     824392206|Samsung NE58F9500...|Major Appliances|          1|           18|         22|   N|                N|FIRE HAZARD - AVO...|FIRE HAZARD - AVO...| 2015-08-30|0.8181818181818182|\n",
            "|         US|   50791387| RYMOWYW38WKOB|B00UI18U08|     846535709|LG LMXC23746S 23 ...|Major Appliances|          5|           35|         35|   N|                N|pleasant surprise...|Bought this fridg...| 2015-08-30|               1.0|\n",
            "|         US|   48688660| RYHZAVESD0T37|B00IY7B5CS|     874236579|Avalon Bay Portab...|Major Appliances|          1|           39|         45|   N|                Y|             Wet ice|I really wanted t...| 2015-08-29|0.8666666666666667|\n",
            "|         US|   47079055|R19Y5VBOF3BQOG|B010CE497I|     607780698|Haier HC27SW20RV ...|Major Appliances|          1|           26|         35|   N|                Y|        Product swap|It just arrived a...| 2015-08-29|0.7428571428571429|\n",
            "|         US|   42769135| R8V9F3139Z1WZ|B00OI05EKE|     381662962|GE GSE25HMHES 36\"...|Major Appliances|          1|           30|         34|   N|                N|SHAME ON GE, low ...|STAY AWAY from GE...| 2015-08-29|0.8823529411764706|\n",
            "|         US|   51579138|R3RNY5OLY451GS|B00LIAP2ZY|     545041103|LG WM3997HWA Vent...|Major Appliances|          1|           25|         30|   N|                Y|Drying did not work.|I really wanted t...| 2015-08-28|0.8333333333333334|\n",
            "|         US|   13663272|R16LPVYSJOAH1T|B00MHY0B9C|     144125671|DMAFRIGFGID2466QF...|Major Appliances|          1|           20|         20|   N|                N|Broke in the firs...|This appliance is...| 2015-08-27|               1.0|\n",
            "|         US|   25345755|R2NLL7ISMM5QYQ|B00E8KC36M|     754165796|Kitchen Bath Coll...|Major Appliances|          4|           89|         94|   N|                Y|  We love it, but...|When it arrived, ...| 2015-08-27|0.9468085106382979|\n",
            "|         US|   52082261|R3FAFI6Q0YL37W|B00KJ07SEM|     313983847|GE MWF SmartWater...|Major Appliances|          1|           30|         35|   N|                Y|BEWARE! Gross yel...|Watch out! I just...| 2015-08-26|0.8571428571428571|\n",
            "|         US|   12120105|R1A4JVOP7N5Q1K|B00XYVEA2Q|     926385357|ARKSEN Portable M...|Major Appliances|          5|           28|         30|   N|                Y|I FELT LIKE A SUC...|I read the negati...| 2015-08-25|0.9333333333333333|\n",
            "|         US|   19227587|R30E25MXKEP9BP|B00D1SZNO6|     315917522|Avanti RA7316PST ...|Major Appliances|          4|           36|         37|   N|                Y|Avanti is good pa...|Arrived really we...| 2015-08-23| 0.972972972972973|\n",
            "|         US|   40023988|R2FMLYX388LR2Y|B0057WCGJ4|     745613395|Bosch 800 Series ...|Major Appliances|          5|           28|         33|   N|                Y|Bosch 800 Series ...|Just got this dis...| 2015-08-22|0.8484848484848485|\n",
            "|         US|   11324103| R1EGFDXPYGROC|B00J8A9S4C|     772573004|Bosch NGM8655UC 8...|Major Appliances|          5|           28|         32|   N|                Y|       Great Cooktop|We bought this to...| 2015-08-22|             0.875|\n",
            "|         US|   10295660|R2DCZYJZRF0V2O|B00OLUTYKC|     668408812|Wine Enthusiast 2...|Major Appliances|          5|           26|         28|   N|                Y|Handsome and Very...|Handsome, super q...| 2015-08-22|0.9285714285714286|\n",
            "|         US|   36744226|R3QNOR0K43XLWB|B002UYSHMM|     429051224|Haier HLP21N Puls...|Major Appliances|          5|           41|         41|   N|                N|Great Washer for ...|This is great, qu...| 2015-08-21|               1.0|\n",
            "|         US|   48114567| RPNUNJJZLD11P|B00GXH8QDW|     114997886|LG H/E Ultra Larg...|Major Appliances|          1|           26|         27|   N|                N|It is too soon to...|I purchased this ...| 2015-08-21|0.9629629629629629|\n",
            "|         US|   19603551|R39VRWWZWAHBPH|B010CE497I|     607780698|Haier HC27SW20RV ...|Major Appliances|          1|           15|         21|   N|                Y|            One Star|Very disappointed...| 2015-08-21|0.7142857142857143|\n",
            "|         US|     877297| RU7XNN9EC8V8X|B00N1XAVDY|     845333501|NewAir CC-100 250...|Major Appliances|          1|           31|         36|   N|                Y|Really bad produc...|Simply the worst ...| 2015-08-21|0.8611111111111112|\n",
            "|         US|    7008877|R2ZU7AC8QSDUOB|B00KVRA6YW|     678523534|SPT RF-314SS Doub...|Major Appliances|          4|           41|         44|   N|                Y| Buy extra ice trays|Bought this mini ...| 2015-08-20|0.9318181818181818|\n",
            "+-----------+-----------+--------------+----------+--------------+--------------------+----------------+-----------+-------------+-----------+----+-----------------+--------------------+--------------------+-----------+------------------+\n",
            "only showing top 20 rows\n",
            "\n"
          ],
          "name": "stdout"
        }
      ]
    },
    {
      "cell_type": "code",
      "metadata": {
        "colab": {
          "base_uri": "https://localhost:8080/"
        },
        "id": "t3jlI7Aym7OJ",
        "outputId": "15da9bf0-47be-483b-d5ae-bc2051cf000c"
      },
      "source": [
        "\r\n",
        "not_vine_count = not_vine_only_df.count()\r\n",
        "not_vine_count"
      ],
      "execution_count": 18,
      "outputs": [
        {
          "output_type": "execute_result",
          "data": {
            "text/plain": [
              "4957"
            ]
          },
          "metadata": {
            "tags": []
          },
          "execution_count": 18
        }
      ]
    },
    {
      "cell_type": "code",
      "metadata": {
        "colab": {
          "base_uri": "https://localhost:8080/"
        },
        "id": "BOGBODMSm7a6",
        "outputId": "5b25f450-7b6f-47a7-9ca7-2dbd944c90d4"
      },
      "source": [
        "not_vine_only_5star_df = not_vine_only_df.filter('star_rating == \"5\"')\r\n",
        "not_vine_only_5star_df.show()"
      ],
      "execution_count": 19,
      "outputs": [
        {
          "output_type": "stream",
          "text": [
            "+-----------+-----------+--------------+----------+--------------+--------------------+----------------+-----------+-------------+-----------+----+-----------------+--------------------+--------------------+-----------+------------------+\n",
            "|marketplace|customer_id|     review_id|product_id|product_parent|       product_title|product_category|star_rating|helpful_votes|total_votes|vine|verified_purchase|     review_headline|         review_body|review_date|   helpful_votes50|\n",
            "+-----------+-----------+--------------+----------+--------------+--------------------+----------------+-----------+-------------+-----------+----+-----------------+--------------------+--------------------+-----------+------------------+\n",
            "|         US|   50791387| RYMOWYW38WKOB|B00UI18U08|     846535709|LG LMXC23746S 23 ...|Major Appliances|          5|           35|         35|   N|                N|pleasant surprise...|Bought this fridg...| 2015-08-30|               1.0|\n",
            "|         US|   12120105|R1A4JVOP7N5Q1K|B00XYVEA2Q|     926385357|ARKSEN Portable M...|Major Appliances|          5|           28|         30|   N|                Y|I FELT LIKE A SUC...|I read the negati...| 2015-08-25|0.9333333333333333|\n",
            "|         US|   40023988|R2FMLYX388LR2Y|B0057WCGJ4|     745613395|Bosch 800 Series ...|Major Appliances|          5|           28|         33|   N|                Y|Bosch 800 Series ...|Just got this dis...| 2015-08-22|0.8484848484848485|\n",
            "|         US|   11324103| R1EGFDXPYGROC|B00J8A9S4C|     772573004|Bosch NGM8655UC 8...|Major Appliances|          5|           28|         32|   N|                Y|       Great Cooktop|We bought this to...| 2015-08-22|             0.875|\n",
            "|         US|   10295660|R2DCZYJZRF0V2O|B00OLUTYKC|     668408812|Wine Enthusiast 2...|Major Appliances|          5|           26|         28|   N|                Y|Handsome and Very...|Handsome, super q...| 2015-08-22|0.9285714285714286|\n",
            "|         US|   36744226|R3QNOR0K43XLWB|B002UYSHMM|     429051224|Haier HLP21N Puls...|Major Appliances|          5|           41|         41|   N|                N|Great Washer for ...|This is great, qu...| 2015-08-21|               1.0|\n",
            "|         US|   42644122|R1PTSX3FQW0J0T|B00NN14VBM|     712762803|Bosch HGI8054UC 8...|Major Appliances|          5|           22|         24|   N|                Y|this range is of ...|this range is of ...| 2015-08-20|0.9166666666666666|\n",
            "|         US|   11716336|R285ZS7LCIZLFH|B00C4R0AL6|     807005987|    HCM050EC Freezer|Major Appliances|          5|           31|         32|   N|                Y|Brrrr, it's cold ...|Freezer, gets col...| 2015-08-18|           0.96875|\n",
            "|         US|   24012182| RNB4JG59ILOL3|B00OK54BAQ|     956212580|WHIRLPOOL GIDDS-2...|Major Appliances|          5|           38|         39|   N|                Y|Works extremely w...|Works extremely w...| 2015-08-17|0.9743589743589743|\n",
            "|         US|   11156562|R196Q2T2PXLXKY|B00K6P7JXA|     570722451|Haier HPL141E 2.6...|Major Appliances|          5|           21|         21|   N|                N|it has worked lik...|I purchased this ...| 2015-08-17|               1.0|\n",
            "|         US|   19293947|R12LFU2ZVPAZSS|B0125S2K0M|     504103070|Avalon Top Loadin...|Major Appliances|          5|          144|        156|   N|                N|Avalon water disp...|[[VIDEOID:8829556...| 2015-08-16|0.9230769230769231|\n",
            "|         US|   34281930| RBEWTVN0JGJK5|B0063E2HTE|     528038448|EdgeStar 34 Bottl...|Major Appliances|          5|           20|         24|   N|                Y|Great Experience ...|I really don't un...| 2015-08-13|0.8333333333333334|\n",
            "|         US|   19964932| RBWC1JIHO45NY|B00UZRV9MG|      18863528|Portable Compact ...|Major Appliances|          5|          324|        335|   N|                Y|Great little big ...|I just got this l...| 2015-08-13|0.9671641791044776|\n",
            "|         US|   41435501|R2QQKOM0ZAFDXS|B004N4MSPO|     451436203|SPT Countertop Di...|Major Appliances|          5|           29|         29|   N|                N|Great dishwasher!...|I did not purchas...| 2015-08-11|               1.0|\n",
            "|         US|   26460043| RZZ4M4JT2S53K|B00CM6J45M|     133221726|Bosch SHE53TL5UC ...|Major Appliances|          5|           27|         27|   N|                N|This puppy it exc...|I did not purchas...| 2015-08-10|               1.0|\n",
            "|         US|   13184795| R6IKJ524RSRHE|B00PYDN0NM|      63179546|LG LFXS29626S Fre...|Major Appliances|          5|           65|         71|   N|                Y|Great fridge, ver...|Great fridge!  I'...| 2015-08-10|0.9154929577464789|\n",
            "|         US|   52118106| R8A89YQAEXWTW|B00MB39X02|     177964792|W3038 | Miele 24 ...|Major Appliances|          5|           36|         38|   N|                N|if you've ever li...|It's a fabulous w...| 2015-08-09|0.9473684210526315|\n",
            "|         US|   33082280|R1WNZB61F5X2M0|B00W4KJO4M|     436506784|GE GUD27ESSJWW 27...|Major Appliances|          5|           49|         59|   N|                Y|          Five Stars|My wife and I rea...| 2015-08-09|0.8305084745762712|\n",
            "|         US|   33493124|R3PYG4LD6E4Z9R|B00U7XIS86|     322267382|Samsung RF23J9011...|Major Appliances|          5|           51|         53|   N|                N|Super flexible, g...|This fridge reall...| 2015-08-07|0.9622641509433962|\n",
            "|         US|   37949308|R3VVLJ3EFHSODD|B00VUNXNTG|     963575888|Samsung WA48J7700...|Major Appliances|          5|           27|         29|   N|                N|MODERN, EFFECTIVE...|I never thought a...| 2015-08-07|0.9310344827586207|\n",
            "+-----------+-----------+--------------+----------+--------------+--------------------+----------------+-----------+-------------+-----------+----+-----------------+--------------------+--------------------+-----------+------------------+\n",
            "only showing top 20 rows\n",
            "\n"
          ],
          "name": "stdout"
        }
      ]
    },
    {
      "cell_type": "code",
      "metadata": {
        "colab": {
          "base_uri": "https://localhost:8080/"
        },
        "id": "MpW6tq1Km7d7",
        "outputId": "5be3a2f4-3e7f-4964-921d-0ceb4692e0bc"
      },
      "source": [
        "not_vine_5star_count = not_vine_only_5star_df.count()\r\n",
        "not_vine_5star_count"
      ],
      "execution_count": 20,
      "outputs": [
        {
          "output_type": "execute_result",
          "data": {
            "text/plain": [
              "1963"
            ]
          },
          "metadata": {
            "tags": []
          },
          "execution_count": 20
        }
      ]
    },
    {
      "cell_type": "code",
      "metadata": {
        "colab": {
          "base_uri": "https://localhost:8080/"
        },
        "id": "0MKdh-gAm7gf",
        "outputId": "ca87d3ce-18fd-48b4-8177-ba51d3604b6d"
      },
      "source": [
        "star5_vine_perc_all = (vine_only_star5_count *100/ votes_count50)\r\n",
        "star5_vine_perc_all"
      ],
      "execution_count": 21,
      "outputs": [
        {
          "output_type": "execute_result",
          "data": {
            "text/plain": [
              "0.3605769230769231"
            ]
          },
          "metadata": {
            "tags": []
          },
          "execution_count": 21
        }
      ]
    },
    {
      "cell_type": "code",
      "metadata": {
        "colab": {
          "base_uri": "https://localhost:8080/"
        },
        "id": "E6KAjn86nHOD",
        "outputId": "84eb0eca-579e-4753-cc4c-3d841eff3903"
      },
      "source": [
        "\r\n",
        "star5_not_vine_perc_all = (not_vine_5star_count *100/ votes_count50)\r\n",
        "star5_not_vine_perc_all"
      ],
      "execution_count": 22,
      "outputs": [
        {
          "output_type": "execute_result",
          "data": {
            "text/plain": [
              "39.322916666666664"
            ]
          },
          "metadata": {
            "tags": []
          },
          "execution_count": 22
        }
      ]
    },
    {
      "cell_type": "code",
      "metadata": {
        "colab": {
          "base_uri": "https://localhost:8080/"
        },
        "id": "5dwB6xjWnHQf",
        "outputId": "d896aef0-80a9-429f-8797-4b16d3cd9ae6"
      },
      "source": [
        "\r\n",
        "star5_vine_perc_all5star = (vine_only_star5_count *100/ star5_count)\r\n",
        "star5_vine_perc_all5star"
      ],
      "execution_count": 23,
      "outputs": [
        {
          "output_type": "execute_result",
          "data": {
            "text/plain": [
              "0.9086320040383644"
            ]
          },
          "metadata": {
            "tags": []
          },
          "execution_count": 23
        }
      ]
    },
    {
      "cell_type": "code",
      "metadata": {
        "colab": {
          "base_uri": "https://localhost:8080/"
        },
        "id": "oyG_bShHnHS3",
        "outputId": "822d9078-209f-4339-f5e0-baf79ab3b5a7"
      },
      "source": [
        "not_vine_5star_perc_all = (not_vine_5star_count*100 / star5_count )\r\n",
        "not_vine_5star_perc_all"
      ],
      "execution_count": 24,
      "outputs": [
        {
          "output_type": "execute_result",
          "data": {
            "text/plain": [
              "99.09136799596163"
            ]
          },
          "metadata": {
            "tags": []
          },
          "execution_count": 24
        }
      ]
    },
    {
      "cell_type": "code",
      "metadata": {
        "colab": {
          "base_uri": "https://localhost:8080/"
        },
        "id": "KqacvazjnHUp",
        "outputId": "07ac32ff-ed42-43be-f9db-841ebd4199f4"
      },
      "source": [
        "\r\n",
        "star5vine_all_vine_perc = (vine_only_star5_count *100/ vine_only_count)\r\n",
        "star5vine_all_vine_perc"
      ],
      "execution_count": 25,
      "outputs": [
        {
          "output_type": "execute_result",
          "data": {
            "text/plain": [
              "51.42857142857143"
            ]
          },
          "metadata": {
            "tags": []
          },
          "execution_count": 25
        }
      ]
    },
    {
      "cell_type": "code",
      "metadata": {
        "colab": {
          "base_uri": "https://localhost:8080/"
        },
        "id": "VInSOxdKnZR0",
        "outputId": "67ab9c28-62b2-4ccd-eb2a-1230145795b3"
      },
      "source": [
        "\r\n",
        "star5non_vine_all_nonvine_perc = (not_vine_5star_count *100/ not_vine_count)\r\n",
        "star5non_vine_all_nonvine_perc"
      ],
      "execution_count": 26,
      "outputs": [
        {
          "output_type": "execute_result",
          "data": {
            "text/plain": [
              "39.60056485777688"
            ]
          },
          "metadata": {
            "tags": []
          },
          "execution_count": 26
        }
      ]
    },
    {
      "cell_type": "code",
      "metadata": {
        "colab": {
          "base_uri": "https://localhost:8080/",
          "height": 235
        },
        "id": "eN9YVouLnZUF",
        "outputId": "3a698313-a032-423b-965d-61dfafe90f7b"
      },
      "source": [
        "\r\n",
        "import pandas as pd\r\n",
        "summary_counts = {'Count Title': ['Total Filtered Vote Counts','Total Five Star Vote Counts', 'Total Vine Votes Count','Total Vine Five Star Votes Count','Total Non-Vine Votes Count', 'Total Non-Vine Five Star Votes Count'],\r\n",
        "                  'Counts': [votes_count50, star5_count, vine_only_count, vine_only_star5_count, not_vine_count,not_vine_5star_count]}\r\n",
        "              \r\n",
        "summary_counts_df = pd.DataFrame(summary_counts)\r\n",
        "summary_counts_df"
      ],
      "execution_count": 27,
      "outputs": [
        {
          "output_type": "execute_result",
          "data": {
            "text/html": [
              "<div>\n",
              "<style scoped>\n",
              "    .dataframe tbody tr th:only-of-type {\n",
              "        vertical-align: middle;\n",
              "    }\n",
              "\n",
              "    .dataframe tbody tr th {\n",
              "        vertical-align: top;\n",
              "    }\n",
              "\n",
              "    .dataframe thead th {\n",
              "        text-align: right;\n",
              "    }\n",
              "</style>\n",
              "<table border=\"1\" class=\"dataframe\">\n",
              "  <thead>\n",
              "    <tr style=\"text-align: right;\">\n",
              "      <th></th>\n",
              "      <th>Count Title</th>\n",
              "      <th>Counts</th>\n",
              "    </tr>\n",
              "  </thead>\n",
              "  <tbody>\n",
              "    <tr>\n",
              "      <th>0</th>\n",
              "      <td>Total Filtered Vote Counts</td>\n",
              "      <td>4992</td>\n",
              "    </tr>\n",
              "    <tr>\n",
              "      <th>1</th>\n",
              "      <td>Total Five Star Vote Counts</td>\n",
              "      <td>1981</td>\n",
              "    </tr>\n",
              "    <tr>\n",
              "      <th>2</th>\n",
              "      <td>Total Vine Votes Count</td>\n",
              "      <td>35</td>\n",
              "    </tr>\n",
              "    <tr>\n",
              "      <th>3</th>\n",
              "      <td>Total Vine Five Star Votes Count</td>\n",
              "      <td>18</td>\n",
              "    </tr>\n",
              "    <tr>\n",
              "      <th>4</th>\n",
              "      <td>Total Non-Vine Votes Count</td>\n",
              "      <td>4957</td>\n",
              "    </tr>\n",
              "    <tr>\n",
              "      <th>5</th>\n",
              "      <td>Total Non-Vine Five Star Votes Count</td>\n",
              "      <td>1963</td>\n",
              "    </tr>\n",
              "  </tbody>\n",
              "</table>\n",
              "</div>"
            ],
            "text/plain": [
              "                            Count Title  Counts\n",
              "0            Total Filtered Vote Counts    4992\n",
              "1           Total Five Star Vote Counts    1981\n",
              "2                Total Vine Votes Count      35\n",
              "3      Total Vine Five Star Votes Count      18\n",
              "4            Total Non-Vine Votes Count    4957\n",
              "5  Total Non-Vine Five Star Votes Count    1963"
            ]
          },
          "metadata": {
            "tags": []
          },
          "execution_count": 27
        }
      ]
    },
    {
      "cell_type": "code",
      "metadata": {
        "colab": {
          "base_uri": "https://localhost:8080/",
          "height": 235
        },
        "id": "TieUjSKNngXN",
        "outputId": "872d15de-374c-4aaa-c5f5-14dfdc48624b"
      },
      "source": [
        "\r\n",
        "percentages = {'Percent Title' : ['% of 5 Star Vine Only(Paid) to All Filtered Votes', '% of 5 Star Non-Vine Only(Not Paid) to All Filtered Votes', '% of 5 Star Vine Only(Paid) to all 5 Star Votes', '% of 5 Star Non-Vine Only(Not Paid) to All 5 Star Votes', '% of Vine 5 Star to all Vine', '% of Non-Vine 5 star to All non-vine'],\r\n",
        "              'Percentage' : [star5_vine_perc_all, star5_not_vine_perc_all, star5_vine_perc_all5star, not_vine_5star_perc_all, star5vine_all_vine_perc, star5non_vine_all_nonvine_perc ]}\r\n",
        "percentages_df = pd.DataFrame(percentages)\r\n",
        "percentages_df"
      ],
      "execution_count": 28,
      "outputs": [
        {
          "output_type": "execute_result",
          "data": {
            "text/html": [
              "<div>\n",
              "<style scoped>\n",
              "    .dataframe tbody tr th:only-of-type {\n",
              "        vertical-align: middle;\n",
              "    }\n",
              "\n",
              "    .dataframe tbody tr th {\n",
              "        vertical-align: top;\n",
              "    }\n",
              "\n",
              "    .dataframe thead th {\n",
              "        text-align: right;\n",
              "    }\n",
              "</style>\n",
              "<table border=\"1\" class=\"dataframe\">\n",
              "  <thead>\n",
              "    <tr style=\"text-align: right;\">\n",
              "      <th></th>\n",
              "      <th>Percent Title</th>\n",
              "      <th>Percentage</th>\n",
              "    </tr>\n",
              "  </thead>\n",
              "  <tbody>\n",
              "    <tr>\n",
              "      <th>0</th>\n",
              "      <td>% of 5 Star Vine Only(Paid) to All Filtered Votes</td>\n",
              "      <td>0.360577</td>\n",
              "    </tr>\n",
              "    <tr>\n",
              "      <th>1</th>\n",
              "      <td>% of 5 Star Non-Vine Only(Not Paid) to All Fil...</td>\n",
              "      <td>39.322917</td>\n",
              "    </tr>\n",
              "    <tr>\n",
              "      <th>2</th>\n",
              "      <td>% of 5 Star Vine Only(Paid) to all 5 Star Votes</td>\n",
              "      <td>0.908632</td>\n",
              "    </tr>\n",
              "    <tr>\n",
              "      <th>3</th>\n",
              "      <td>% of 5 Star Non-Vine Only(Not Paid) to All 5 S...</td>\n",
              "      <td>99.091368</td>\n",
              "    </tr>\n",
              "    <tr>\n",
              "      <th>4</th>\n",
              "      <td>% of Vine 5 Star to all Vine</td>\n",
              "      <td>51.428571</td>\n",
              "    </tr>\n",
              "    <tr>\n",
              "      <th>5</th>\n",
              "      <td>% of Non-Vine 5 star to All non-vine</td>\n",
              "      <td>39.600565</td>\n",
              "    </tr>\n",
              "  </tbody>\n",
              "</table>\n",
              "</div>"
            ],
            "text/plain": [
              "                                       Percent Title  Percentage\n",
              "0  % of 5 Star Vine Only(Paid) to All Filtered Votes    0.360577\n",
              "1  % of 5 Star Non-Vine Only(Not Paid) to All Fil...   39.322917\n",
              "2    % of 5 Star Vine Only(Paid) to all 5 Star Votes    0.908632\n",
              "3  % of 5 Star Non-Vine Only(Not Paid) to All 5 S...   99.091368\n",
              "4                       % of Vine 5 Star to all Vine   51.428571\n",
              "5               % of Non-Vine 5 star to All non-vine   39.600565"
            ]
          },
          "metadata": {
            "tags": []
          },
          "execution_count": 28
        }
      ]
    },
    {
      "cell_type": "code",
      "metadata": {
        "id": "snN-0HI3nutl"
      },
      "source": [
        ""
      ],
      "execution_count": null,
      "outputs": []
    }
  ]
}